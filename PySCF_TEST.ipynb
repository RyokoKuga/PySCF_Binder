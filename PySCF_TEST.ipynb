{
  "nbformat": 4,
  "nbformat_minor": 0,
  "metadata": {
    "colab": {
      "provenance": []
    },
    "kernelspec": {
      "name": "python3",
      "display_name": "Python 3"
    },
    "language_info": {
      "name": "python"
    }
  },
  "cells": [
    {
      "cell_type": "code",
      "execution_count": null,
      "metadata": {
        "id": "rzWTG1zJa3W5"
      },
      "outputs": [],
      "source": [
        "# pyscfのインポート\n",
        "import pyscf"
      ]
    },
    {
      "cell_type": "markdown",
      "source": [
        "**エネルギー計算（一点計算）**"
      ],
      "metadata": {
        "id": "TSzfLtjVbhVm"
      }
    },
    {
      "cell_type": "code",
      "source": [
        "# gto, scfモジュールのインポート\n",
        "from pyscf import gto, scf\n",
        "# 分子座標, 基底関数の指定\n",
        "mol = gto.M(charge=1, spin=1, basis='6-31g', atom='''H 0 0 0; H 0 0 1.2''')\n",
        "# RHF法で計算の実行\n",
        "mf = scf.RHF(mol).run()"
      ],
      "metadata": {
        "id": "gjoR0WTva4iK"
      },
      "execution_count": null,
      "outputs": []
    },
    {
      "cell_type": "code",
      "source": [
        "# MP2での計算例\n",
        "from pyscf import mp\n",
        "mol = gto.M(charge=1, spin=1, basis='6-31g', atom='''H 0 0 0; H 0 0 1.2''')\n",
        "mf = mp.MP2(mol).run()"
      ],
      "metadata": {
        "id": "oqC28ST6bPxV"
      },
      "execution_count": null,
      "outputs": []
    },
    {
      "cell_type": "markdown",
      "source": [
        "**構造最適化計算**"
      ],
      "metadata": {
        "id": "g8cj9niJbqj9"
      }
    },
    {
      "cell_type": "code",
      "source": [
        "# gto, scfモジュールのインポート\n",
        "from pyscf import gto, scf\n",
        "# optimizeのインポート\n",
        "from pyscf.geomopt.berny_solver import optimize\n",
        "# 計算の指定\n",
        "mol = gto.M(charge=1, spin=1, basis='6-31g', atom='''H 0 0 0; H 0 0 1.2''')\n",
        "mf = scf.RHF(mol)\n",
        "# 計算の実行\n",
        "mol_eq = optimize(mf)"
      ],
      "metadata": {
        "id": "-fpnq4BGbbes"
      },
      "execution_count": null,
      "outputs": []
    }
  ]
}
